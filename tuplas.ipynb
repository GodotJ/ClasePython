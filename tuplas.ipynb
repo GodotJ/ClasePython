{
 "cells": [
  {
   "cell_type": "markdown",
   "metadata": {},
   "source": [
    "# Tuplas en Python"
   ]
  },
  {
   "cell_type": "markdown",
   "metadata": {},
   "source": [
    "Las tuplas son una estructura de datos en Python que comparten similitudes con las listas, aunque con una diferencia crucial: son inmutables. Esto significa que, una vez creada una tupla, no se puede modificar su contenido. Son útiles para almacenar colecciones de datos relacionados que no deben cambiar, como por ejemplo, coordenadas, nombres o valores constantes.\n",
    "\n",
    "Es posible crear tuplas simplemente enumerando los elementos separados por comas, incluso sin paréntesis. Por ejemplo:"
   ]
  },
  {
   "cell_type": "code",
   "execution_count": null,
   "metadata": {},
   "outputs": [],
   "source": [
    "mi_tupla = 1, 2, 3, 4, 5"
   ]
  },
  {
   "cell_type": "markdown",
   "metadata": {},
   "source": [
    "Los elementos de una tupla se pueden acceder utilizando índices, al igual que en las listas. Por ejemplo:"
   ]
  },
  {
   "cell_type": "code",
   "execution_count": null,
   "metadata": {},
   "outputs": [],
   "source": [
    "mi_tupla = (1, 2, 3, 4, 5)\n",
    "print(mi_tupla[0])  # Salida: 1"
   ]
  },
  {
   "cell_type": "markdown",
   "metadata": {},
   "source": [
    "Es importante destacar que las tuplas son inmutables, lo que implica que no se pueden modificar una vez creadas. Esto las diferencia de las listas, que son mutables y permiten modificaciones como agregar, eliminar o cambiar elementos. No obstante, es posible \"eliminar\" una tupla eliminando su referencia, asignando None a la variable que la contiene. Aunque esto no borra la tupla en sí, permite que el recolector de basura de Python la elimine de la memoria cuando ya no está en uso.\n",
    "\n",
    "Por ejemplo:"
   ]
  },
  {
   "cell_type": "code",
   "execution_count": null,
   "metadata": {},
   "outputs": [],
   "source": [
    "mi_tupla = (1, 2, 3)\n",
    "mi_tupla = None  # Elimina la referencia a la tupla\n"
   ]
  },
  {
   "cell_type": "markdown",
   "metadata": {},
   "source": [
    "Las tuplas se pueden concatenar utilizando el operador + y repetir utilizando el operador *, de manera similar a las cadenas de texto."
   ]
  },
  {
   "cell_type": "code",
   "execution_count": null,
   "metadata": {},
   "outputs": [],
   "source": [
    "tupla_original = (1, 2)\n",
    "tupla_repetida = tupla_original * 3\n",
    "print(tupla_repetida)  # Output: (1, 2, 1, 2, 1, 2)"
   ]
  },
  {
   "cell_type": "markdown",
   "metadata": {},
   "source": [
    "Los métodos de las tuplas son limitados, pero incluyen count(), que devuelve el número de veces que aparece un elemento en la tupla, y index(), que devuelve el índice de la primera aparición de un elemento en la tupla."
   ]
  },
  {
   "cell_type": "markdown",
   "metadata": {},
   "source": [
    "Ejercicios de ejemplo\n",
    "\n",
    "1.Crear una tupla con elementos del 1 al 5:"
   ]
  },
  {
   "cell_type": "code",
   "execution_count": null,
   "metadata": {},
   "outputs": [],
   "source": [
    "mi_tupla = (1, 2, 3, 4, 5)"
   ]
  },
  {
   "cell_type": "markdown",
   "metadata": {},
   "source": [
    "2.Acceder al tercer elemento de la tupla mi_tupla:"
   ]
  },
  {
   "cell_type": "code",
   "execution_count": null,
   "metadata": {},
   "outputs": [],
   "source": [
    "tercer_elemento = mi_tupla[2]\n",
    "print(tercer_elemento)  # Salida: 3"
   ]
  },
  {
   "cell_type": "markdown",
   "metadata": {},
   "source": [
    "3.Concatenar dos tuplas y guardar el resultado en una nueva variable"
   ]
  },
  {
   "cell_type": "code",
   "execution_count": null,
   "metadata": {},
   "outputs": [],
   "source": [
    "tupla1 = (1, 2, 3)\n",
    "tupla2 = (4, 5, 6)\n",
    "tupla_concatenada = tupla1 + tupla2\n",
    "print(tupla_concatenada)  # Salida: (1, 2, 3, 4, 5, 6)"
   ]
  },
  {
   "cell_type": "markdown",
   "metadata": {},
   "source": [
    "4.Repetir una tupla tres veces y guardar el resultado en una nueva variable"
   ]
  },
  {
   "cell_type": "code",
   "execution_count": null,
   "metadata": {},
   "outputs": [],
   "source": [
    "tupla_original = (1, 2, 3)\n",
    "tupla_repetida = tupla_original * 3\n",
    "print(tupla_repetida)  # Salida: (1, 2, 3, 1, 2, 3, 1, 2, 3)"
   ]
  },
  {
   "cell_type": "markdown",
   "metadata": {},
   "source": [
    "5.Escribir una función que tome una tupla como argumento y devuelva la suma de todos los elementos:\n"
   ]
  },
  {
   "cell_type": "code",
   "execution_count": null,
   "metadata": {},
   "outputs": [],
   "source": [
    "def suma_tupla(tupla):\n",
    "    return sum(tupla)\n",
    "\n",
    "# Ejemplo de uso:\n",
    "mi_tupla = (1, 2, 3, 4, 5)\n",
    "resultado = suma_tupla(mi_tupla)\n",
    "print(resultado)  # Salida: 15\n"
   ]
  },
  {
   "cell_type": "markdown",
   "metadata": {},
   "source": [
    "6.Escribir una función que tome una tupla como argumento y devuelva una nueva tupla con solo los elementos únicos"
   ]
  },
  {
   "cell_type": "code",
   "execution_count": null,
   "metadata": {},
   "outputs": [],
   "source": [
    "def elementos_unicos(tupla):\n",
    "    return tuple(set(tupla))\n",
    "\n",
    "# Ejemplo de uso:\n",
    "mi_tupla = (1, 2, 2, 3, 3, 4, 5)\n",
    "resultado = elementos_unicos(mi_tupla)\n",
    "print(resultado)  # Salida: (1, 2, 3, 4, 5)"
   ]
  },
  {
   "cell_type": "markdown",
   "metadata": {},
   "source": [
    "7.Escribir una función que tome dos tuplas como argumentos y devuelva una nueva tupla que contenga solo los elementos que aparecen en ambas tuplas"
   ]
  },
  {
   "cell_type": "code",
   "execution_count": null,
   "metadata": {},
   "outputs": [],
   "source": [
    "def elementos_comunes(tupla1, tupla2):\n",
    "    return tuple(set(tupla1) & set(tupla2))\n",
    "\n",
    "# Ejemplo de uso:\n",
    "tupla1 = (1, 2, 3, 4)\n",
    "tupla2 = (3, 4, 5, 6)\n",
    "resultado = elementos_comunes(tupla1, tupla2)\n",
    "print(resultado)  # Salida: (3, 4)"
   ]
  },
  {
   "cell_type": "markdown",
   "metadata": {},
   "source": [
    "8.Escribir una función que tome una lista de tuplas como argumento y devuelva una nueva tupla que contenga el elemento más grande de cada tupla:"
   ]
  },
  {
   "cell_type": "code",
   "execution_count": null,
   "metadata": {},
   "outputs": [],
   "source": [
    "def elementos_mas_grandes(lista_de_tuplas):\n",
    "    return tuple(max(tupla) for tupla in lista_de_tuplas)\n",
    "\n",
    "# Ejemplo de uso:\n",
    "lista_de_tuplas = [(1, 2), (4, 5), (7, 8)]\n",
    "resultado = elementos_mas_grandes(lista_de_tuplas)\n",
    "print(resultado)  # Salida: (2, 5, 8)"
   ]
  },
  {
   "cell_type": "markdown",
   "metadata": {},
   "source": [
    "9.Escribir una función que tome una lista de números como argumento y devuelva una tupla con el número más grande y el número más pequeño"
   ]
  },
  {
   "cell_type": "code",
   "execution_count": null,
   "metadata": {},
   "outputs": [],
   "source": [
    "def extremos(lista):\n",
    "    return min(lista), max(lista)\n",
    "\n",
    "# Ejemplo de uso:\n",
    "lista_de_numeros = [1, 2, 3, 4, 5]\n",
    "resultado = extremos(lista_de_numeros)\n",
    "print(resultado)  # Salida: (1, 5)"
   ]
  },
  {
   "cell_type": "markdown",
   "metadata": {},
   "source": [
    "10.Escribir una función que tome una tupla de cadenas como argumento y devuelva una nueva tupla donde cada cadena tenga la primera letra en mayúscula"
   ]
  },
  {
   "cell_type": "code",
   "execution_count": null,
   "metadata": {},
   "outputs": [],
   "source": [
    "def primera_letra_mayuscula(tupla):\n",
    "    return tuple(s.capitalize() for s in tupla)\n",
    "\n",
    "# Ejemplo de uso:\n",
    "mi_tupla = (\"hola\", \"adios\", \"python\")\n",
    "resultado = primera_letra_mayuscula(mi_tupla)\n",
    "print(resultado)  # Salida: ('Hola', 'Adios', 'Python')\n"
   ]
  }
 ],
 "metadata": {
  "language_info": {
   "name": "python"
  }
 },
 "nbformat": 4,
 "nbformat_minor": 2
}
