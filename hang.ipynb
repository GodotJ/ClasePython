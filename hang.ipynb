{
  "nbformat": 4,
  "nbformat_minor": 0,
  "metadata": {
    "colab": {
      "provenance": []
    },
    "kernelspec": {
      "name": "python3",
      "display_name": "Python 3"
    },
    "language_info": {
      "name": "python"
    }
  },
  "cells": [
    {
      "cell_type": "code",
      "execution_count": 20,
      "metadata": {
        "colab": {
          "base_uri": "https://localhost:8080/"
        },
        "id": "FMKMTlUpi7WC",
        "outputId": "c0ee29e6-5b55-4229-847f-2aacef5ecebe"
      },
      "outputs": [
        {
          "output_type": "stream",
          "name": "stdout",
          "text": [
            "['aback', 'abaft', 'abandoned', 'abashed', 'aberrant']\n",
            "ABERRANT\n",
            "Disclaimer: This code does not appear in the game:  UTTERMOST\n",
            "\n",
            "Current word:  _ _ _ _ _ _ _ _ _\n",
            "Guess a letter: a\n",
            "You lose a live master chief!!! 😵👀\n",
            "\n",
            "Current word:  _ _ _ _ _ _ _ _ _\n",
            "Guess a letter: e\n",
            "\n",
            "Current word:  _ _ _ E _ _ _ _ _\n",
            "Guess a letter: i\n",
            "You lose a live master chief!!! 😵👀\n",
            "\n",
            "Current word:  _ _ _ E _ _ _ _ _\n",
            "Guess a letter: u\n",
            "\n",
            "Current word:  U _ _ E _ _ _ _ _\n",
            "Guess a letter: h\n",
            "You lose a live master chief!!! 😵👀\n",
            "\n",
            "Current word:  U _ _ E _ _ _ _ _\n",
            "Guess a letter: n\n",
            "You lose a live master chief!!! 😵👀\n",
            "\n",
            "Current word:  U _ _ E _ _ _ _ _\n",
            "Guess a letter: p\n",
            "You lose a live master chief!!! 😵👀\n",
            "\n",
            "Current word:  U _ _ E _ _ _ _ _\n",
            "Guess a letter: s\n",
            "\n",
            "Current word:  U _ _ E _ _ _ S _\n",
            "Guess a letter: l\n",
            "You lose a live master chief!!! 😵👀\n",
            "The word was: UTTERMOST you are a lose with uppercase L 🤣\n"
          ]
        }
      ],
      "source": [
        "# @title Texto de título predeterminado\n",
        "import string\n",
        "import random\n",
        "from words import words\n",
        "\n",
        "print(words[\"data\"][0:5])\n",
        "\n",
        "def get_valid_word(word_list):\n",
        "    word = random.choice(word_list)\n",
        "    return word.upper()\n",
        "\n",
        "word_list = words[\"data\"]\n",
        "\n",
        "print(get_valid_word(word_list[0:5]))\n",
        "\n",
        "def hangman():\n",
        "    word = get_valid_word(words[\"data\"])\n",
        "    print('Disclaimer: This code does not appear in the game: ', word)\n",
        "\n",
        "    word_letters = set(word)\n",
        "    alphabet = set(string.ascii_uppercase)\n",
        "    used_letters = set()\n",
        "    lives = 6\n",
        "\n",
        "    while len(word_letters) > 0 and lives > 0:\n",
        "        # User's feedback\n",
        "        word_list = [letter if letter in used_letters else \"_\" for letter in word]\n",
        "        print('\\nCurrent word: ', ' '.join(word_list))\n",
        "\n",
        "        user_letter = input(\"Guess a letter: \").upper()\n",
        "        if user_letter in alphabet - used_letters:\n",
        "            used_letters.add(user_letter)\n",
        "            if user_letter in word_letters:\n",
        "                word_letters.remove(user_letter)\n",
        "            else:\n",
        "                lives -= 1\n",
        "                print(\"You lose a live master chief!!! 😵👀\")\n",
        "\n",
        "        elif user_letter in used_letters:\n",
        "            print(\"The letter have been used, Please try again.\")\n",
        "\n",
        "        else:\n",
        "            print(\"Invalid character.\")\n",
        "\n",
        "    if lives == 0:\n",
        "        print(\"The word was:\", word, \"you are a lose with uppercase L 🤣\")\n",
        "    else:\n",
        "        print(\"You win the word is: 😒\", word)\n",
        "\n",
        "hangman()\n"
      ]
    }
  ]
}