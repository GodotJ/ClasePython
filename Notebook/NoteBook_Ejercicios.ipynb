{
 "cells": [
  {
   "cell_type": "markdown",
   "id": "fc086a4b-d5cd-4c0a-8657-ec0ebce87c53",
   "metadata": {},
   "source": [
    "## Jupyter Lab\n",
    "\n",
    "### Los 11 Ejercicios\n",
    "### Cheems Doggie Guau 🐶"
   ]
  },
  {
   "cell_type": "markdown",
   "id": "cf5fa641-a474-4850-a592-959fa64295a9",
   "metadata": {},
   "source": [
    "## Ejercicio 01\n",
    "\n",
    "> Da la bienvenida a un usuario y luego pídale un número entre 1 y 1000.\n",
    "Cuando el usuario te da el número, compruebas si es par o impar y luego imprimes un mensaje informándole."
   ]
  },
  {
   "cell_type": "code",
   "execution_count": 1,
   "id": "182a731b-1081-4a55-86f1-f2f5ea06ff28",
   "metadata": {},
   "outputs": [
    {
     "name": "stdin",
     "output_type": "stream",
     "text": [
      "Ingresa un numero entre 1 - 1000: 20\n"
     ]
    },
    {
     "name": "stdout",
     "output_type": "stream",
     "text": [
      "El numero  20  es par\n"
     ]
    },
    {
     "name": "stdin",
     "output_type": "stream",
     "text": [
      "Quieres ingresar otro numero? (y/n):  n\n"
     ]
    }
   ],
   "source": [
    "count = True\n",
    "while count == True:\n",
    "    number = int(input(\"Ingresa un numero entre 1 - 1000:\"))\n",
    "\n",
    "    if(number >= 1 and number <=1000):\n",
    "      \n",
    "        oddEven = number % 2\n",
    "\n",
    "        if(oddEven==0):\n",
    "            print(\"El numero \",number,\" es par\")\n",
    "        \n",
    "            repeat= input(\"Quieres ingresar otro numero? (y/n): \")\n",
    "            if(repeat == \"n\"):\n",
    "                count = False\n",
    "        else:\n",
    "            print(\"El numero \",number,\" es inpar\")\n",
    "            repeat= input(\"Quieres ingresar otro numero? (y/n): \")\n",
    "            if(repeat == \"n\"):\n",
    "                count = False\n",
    "    else:\n",
    "        print(\"Numero fuera del rango favor de ingresar otro\")\n"
   ]
  },
  {
   "cell_type": "markdown",
   "id": "6e3356a1-abae-4319-a6e9-df43761de895",
   "metadata": {},
   "source": [
    "## Ejercicio 02\n",
    "\n",
    ">Solicite información al usuario.\n",
    "Podría ser cualquier cosa, como un nombre, un adjetivo, un pronombre o incluso una acción. Una vez que obtenga la información, puede reorganizarla para construir su propia historia."
   ]
  },
  {
   "cell_type": "code",
   "execution_count": 2,
   "id": "1cf4bf91-fec9-44ee-aa4f-5d23b5a54152",
   "metadata": {},
   "outputs": [
    {
     "name": "stdin",
     "output_type": "stream",
     "text": [
      "Ingresa un verbo un primera persona:  Observo\n",
      "Ingresa un verbo un primera persona:  tomo\n",
      "Ingresa un verbo un primera persona:  empezo\n",
      "Ingresa un sustantivo:  cosa\n"
     ]
    },
    {
     "name": "stdout",
     "output_type": "stream",
     "text": [
      "\n",
      "Después de una larga jornada de trabajo, el artista Observo  a su estudio, \n",
      "tomo  la lámpara y \n",
      "empezo  a esculpir una \n",
      "cosa ;\n"
     ]
    }
   ],
   "source": [
    "verb1 = input(\"Ingresa un verbo un primera persona: \")\n",
    "verb2 = input(\"Ingresa un verbo un primera persona: \")\n",
    "verb3 = input(\"Ingresa un verbo un primera persona: \") \n",
    "noun = input(\"Ingresa un sustantivo: \")\n",
    "\n",
    "print(\"\")\n",
    "print(\"Después de una larga jornada de trabajo, el artista\",verb1,\" a su estudio, \")\n",
    "print(verb2,\" la lámpara y \")\n",
    "print(verb3,\" a esculpir una \")\n",
    "print(noun,\";\")"
   ]
  },
  {
   "cell_type": "markdown",
   "id": "be8df727-70db-4fc7-9b43-9d52532d0cd2",
   "metadata": {},
   "source": [
    "## Ejercicio 03\n",
    "\n",
    ">Pregúntele al usuario qué tiene en mente. Luego, después de que el usuario responda, cuente la cantidad de palabras en la oración e imprímala como resultado."
   ]
  },
  {
   "cell_type": "code",
   "execution_count": 3,
   "id": "08c18ef0-950e-4dc8-9bb0-5071fe4469a2",
   "metadata": {},
   "outputs": [
    {
     "name": "stdin",
     "output_type": "stream",
     "text": [
      "En que estas pensando?:   Comer papitas\n"
     ]
    },
    {
     "name": "stdout",
     "output_type": "stream",
     "text": [
      "Genial, lo que piensas me lo dices en  2  palabras\n"
     ]
    }
   ],
   "source": [
    "frase = input(\"En que estas pensando?:  \")\n",
    "letras = frase.split()\n",
    "\n",
    "contador = len(letras)\n",
    "\n",
    "print(\"Genial, lo que piensas me lo dices en \",contador,\" palabras\")"
   ]
  },
  {
   "cell_type": "markdown",
   "id": "6ff7f051-fbe2-4c20-980c-eecfa5ef0e65",
   "metadata": {},
   "source": [
    "## Ejercicio 04\n",
    "\n",
    ">Solicite a un usuario su información personal una pregunta a la vez. Luego verifique que la información que ingresaron sea válida. Finalmente, imprima un resumen de toda la información que ingresaron."
   ]
  },
  {
   "cell_type": "code",
   "execution_count": 4,
   "id": "2bf5c7f3-8529-49e0-ae02-35bc9e8acd9a",
   "metadata": {},
   "outputs": [
    {
     "name": "stdin",
     "output_type": "stream",
     "text": [
      "Ingresa tu nombre:   Ernesto\n",
      "Tu nombre es correcto?(y/n):   y\n",
      "Ingresa tu fecha de nacimiento:   07/08/1999\n",
      "Tu fecha de nacimiento es correcta?(y/n):   y\n",
      "Ingresa tu direccion:   El jibarito\n",
      "Tu direccion es correcta?(y/n):   y\n",
      "Ingresa una meta personas:   Graduarme\n",
      "Tu meta es correcta?(y/n):   y\n"
     ]
    },
    {
     "name": "stdout",
     "output_type": "stream",
     "text": [
      "- Nombre:  Ernesto\n",
      "- Fechad de nacimiento:  07/08/1999\n",
      "- Domicilio:  El jibarito\n",
      "- Metas Personales:  Graduarme\n"
     ]
    }
   ],
   "source": [
    "count=True\n",
    "while count== True: \n",
    "    name = input(\"Ingresa tu nombre:  \")\n",
    "    option = input(\"Tu nombre es correcto?(y/n):  \")\n",
    "    if(option==\"y\"):\n",
    "        count = False\n",
    "\n",
    "count=True\n",
    "while count== True:\n",
    "    birthDate = input(\"Ingresa tu fecha de nacimiento:  \")\n",
    "    option = input(\"Tu fecha de nacimiento es correcta?(y/n):  \")\n",
    "    if(option==\"y\"):\n",
    "        count = False\n",
    "\n",
    "count=True\n",
    "while count== True:\n",
    "    address = input(\"Ingresa tu direccion:  \")\n",
    "    option = input(\"Tu direccion es correcta?(y/n):  \")\n",
    "    if(option==\"y\"):\n",
    "        count = False\n",
    "\n",
    "count=True\n",
    "while count== True:\n",
    "    goal = input(\"Ingresa una meta personas:  \")\n",
    "    option = input(\"Tu meta es correcta?(y/n):  \")\n",
    "    if(option==\"y\"):\n",
    "        count = False\n",
    "\n",
    "print(\"- Nombre: \",name)\n",
    "print(\"- Fechad de nacimiento: \",birthDate)\n",
    "print(\"- Domicilio: \",address)\n",
    "print(\"- Metas Personales: \",goal)"
   ]
  },
  {
   "cell_type": "markdown",
   "id": "bccab8e5-bf1d-4bd3-806e-ef9d8097ca0a",
   "metadata": {},
   "source": [
    "## Ejercicio 05\n",
    "\n",
    ">Pídale al usuario que ingrese el significado completo de una organización o concepto y le proporcionará el acrónimo"
   ]
  },
  {
   "cell_type": "code",
   "execution_count": 5,
   "id": "b91cd64c-8844-4236-aeaa-b513ec4bccfe",
   "metadata": {},
   "outputs": [
    {
     "name": "stdin",
     "output_type": "stream",
     "text": [
      "Ingresa una frase para generar un acrónimo:  As Soon As Possible\n"
     ]
    },
    {
     "name": "stdout",
     "output_type": "stream",
     "text": [
      "El acrónimo de la frase es: ASAP\n"
     ]
    }
   ],
   "source": [
    "def Acronimo(sentencia):\n",
    "    pal = sentencia.split()\n",
    "    Acronimo = \"\"\n",
    "    for word in pal:     \n",
    "        Acronimo += word[0].upper()\n",
    "    return Acronimo\n",
    "sentencia = input(\"Ingresa una frase para generar un acrónimo: \")\n",
    "acro = Acronimo(sentencia)\n",
    "print(\"El acrónimo de la frase es:\", acro)"
   ]
  },
  {
   "cell_type": "markdown",
   "id": "66c52afb-3a07-4355-8743-8cf37a04cfe3",
   "metadata": {},
   "source": [
    "## Ejercicio 06\n",
    "\n",
    ">Este es un juego popular que se juega entre dos personas. Cada jugador puede formar una de tres formas usando su mano:\n",
    "\n",
    "* roca (un puño cerrado)\n",
    "* papel (una mano plana)\n",
    "* tijeras (un puño con el dedo índice y medio extendidos formando una V)"
   ]
  },
  {
   "cell_type": "code",
   "execution_count": 6,
   "id": "077c234a-f221-48e0-a5a3-9045859dc47d",
   "metadata": {},
   "outputs": [
    {
     "name": "stdin",
     "output_type": "stream",
     "text": [
      "Elige piedra, papel o tijeras:  piedra\n"
     ]
    },
    {
     "name": "stdout",
     "output_type": "stream",
     "text": [
      "Tu elección: piedra\n",
      "Elección de la computadora: piedra\n",
      "¡Empate!\n"
     ]
    },
    {
     "name": "stdin",
     "output_type": "stream",
     "text": [
      "Quieres volver a jugar? (y/n):  n\n"
     ]
    }
   ],
   "source": [
    "import random\n",
    "\n",
    "def game(user):\n",
    "    opt = [\"piedra\", \"papel\", \"tijeras\"]\n",
    "    optPc = random.choice(opt)\n",
    "    \n",
    "    print(\"Tu elección:\", user)\n",
    "    print(\"Elección de la computadora:\", optPc)\n",
    "    \n",
    "    if user == optPc:\n",
    "        print(\"¡Empate!\")\n",
    "    elif (user == \"piedra\" and optPc == \"tijeras\") or \\\n",
    "         (user == \"papel\" and optPc == \"piedra\") or \\\n",
    "         (user == \"tijeras\" and optPc == \"papel\"):\n",
    "        print(\"¡Ganaste!\")\n",
    "    else:\n",
    "        print(\"¡Perdiste!\")\n",
    "\n",
    "count = True\n",
    "while count== True:\n",
    "    user = input(\"Elige piedra, papel o tijeras: \").lower()\n",
    "\n",
    "    if user in [\"piedra\", \"papel\", \"tijeras\"]:\n",
    "        game(user)\n",
    "        repeat= input(\"Quieres volver a jugar? (y/n): \")\n",
    "        if(repeat == \"n\"):\n",
    "            count = False\n",
    "    else:\n",
    "        print(\"Por favor, elige una opción válida: piedra, papel o tijeras.\")\n",
    "        repeat= input(\"Quieres volver a jugar? (y/n): \")\n",
    "        if(repeat == \"n\"):\n",
    "           count = False"
   ]
  },
  {
   "cell_type": "markdown",
   "id": "99bdf00e-4829-4981-941b-2f8b19c673cd",
   "metadata": {},
   "source": [
    "## Ejercicio 07\n",
    "\n",
    ">Le pides a un usuario que adivine un número entre 1 y 50.\n",
    "Si adivinan fuera de ese rango, se les indicará un error que los insta a elegir un número dentro del rango adecuado."
   ]
  },
  {
   "cell_type": "code",
   "execution_count": 7,
   "id": "d0a9245c-c2d3-44e1-bc9a-07083781256f",
   "metadata": {},
   "outputs": [
    {
     "name": "stdin",
     "output_type": "stream",
     "text": [
      "Adivina el numero entre 1 - 50:   40\n"
     ]
    },
    {
     "name": "stdout",
     "output_type": "stream",
     "text": [
      "Elije un numero mas alto. Intentalo otra vez\n"
     ]
    },
    {
     "name": "stdin",
     "output_type": "stream",
     "text": [
      "\n",
      "Adivina un numero entre 1 - 50:   45\n"
     ]
    },
    {
     "name": "stdout",
     "output_type": "stream",
     "text": [
      "Elije un numero mas alto. Intentalo otra vez\n"
     ]
    },
    {
     "name": "stdin",
     "output_type": "stream",
     "text": [
      "\n",
      "Adivina un numero entre 1 - 50:   50\n"
     ]
    },
    {
     "name": "stdout",
     "output_type": "stream",
     "text": [
      "Elije un numero mas bajo. Intentalo otra vez\n"
     ]
    },
    {
     "name": "stdin",
     "output_type": "stream",
     "text": [
      "\n",
      "Adivina un numero entre 1 - 50:   48\n"
     ]
    },
    {
     "name": "stdout",
     "output_type": "stream",
     "text": [
      "Elije un numero mas alto. Intentalo otra vez\n"
     ]
    },
    {
     "name": "stdin",
     "output_type": "stream",
     "text": [
      "\n",
      "Adivina un numero entre 1 - 50:   47\n"
     ]
    },
    {
     "name": "stdout",
     "output_type": "stream",
     "text": [
      "Elije un numero mas alto. Intentalo otra vez\n"
     ]
    },
    {
     "name": "stdin",
     "output_type": "stream",
     "text": [
      "\n",
      "Adivina un numero entre 1 - 50:   49\n"
     ]
    },
    {
     "name": "stdout",
     "output_type": "stream",
     "text": [
      "Adivinaste el numero felicidades!!!\n",
      "Te costo  5  intentos\n"
     ]
    }
   ],
   "source": [
    "import random\n",
    "num = random.randrange(1,50)\n",
    "adi = int(input(\"Adivina el numero entre 1 - 50:  \"))\n",
    "cont = 0\n",
    "\n",
    "while adi != num:  \n",
    "    if (adi < num):\n",
    "        print(\"Elije un numero mas alto. Intentalo otra vez\")\n",
    "        adi = int(input(\"\\nAdivina un numero entre 1 - 50:  \"))\n",
    "        cont = cont + 1\n",
    "    else:\n",
    "        print(\"Elije un numero mas bajo. Intentalo otra vez\")\n",
    "        adi = int(input(\"\\nAdivina un numero entre 1 - 50:  \"))\n",
    "        cont = cont + 1\n",
    "print(\"Adivinaste el numero felicidades!!!\")\n",
    "print(\"Te costo \", cont, \" intentos\")"
   ]
  },
  {
   "cell_type": "markdown",
   "id": "b8dd4a35-9104-42ec-9323-b52bfe47dcab",
   "metadata": {},
   "source": [
    "## Ejercicio 08\n",
    "\n",
    ">Pídele al usuario que te dé cinco palabras. Luego comprueba si alguna de las cinco palabras es un palíndromo.\n",
    ">Un palíndromo es una palabra que permanece igual ya sea que se lea hacia adelante o hacia atrás."
   ]
  },
  {
   "cell_type": "code",
   "execution_count": 8,
   "id": "d752c4fb-edb0-49ab-ac21-1f80ff681c4d",
   "metadata": {},
   "outputs": [
    {
     "name": "stdin",
     "output_type": "stream",
     "text": [
      "Ingrese la palabra #1:  madam\n",
      "Ingrese la palabra #2:  malayalam\n",
      "Ingrese la palabra #3:  geeks\n",
      "Ingrese la palabra #4:  geeks\n",
      "Ingrese la palabra #5:  geeks\n"
     ]
    },
    {
     "name": "stdout",
     "output_type": "stream",
     "text": [
      "\n",
      "Palíndromos:\n",
      "madam\n",
      "malayalam\n",
      "\n",
      "No palíndromos:\n",
      "geeks\n",
      "geeks\n",
      "geeks\n"
     ]
    }
   ],
   "source": [
    "def is_palindromo(word):\n",
    "    return word == word[::-1]\n",
    "\n",
    "words = []\n",
    "for i in range(5):\n",
    "    word = input(f\"Ingrese la palabra #{i + 1}: \")\n",
    "    words.append(word.lower()) \n",
    "\n",
    "palindromes = []\n",
    "no_palindromes = []\n",
    "for word in words:\n",
    "    if is_palindromo(word):\n",
    "        palindromes.append(word)\n",
    "    else:\n",
    "        no_palindromes.append(word)\n",
    "\n",
    "print(\"\\nPalíndromos:\")\n",
    "for palindrome in palindromes:\n",
    "    print(palindrome)\n",
    "\n",
    "print(\"\\nNo palíndromos:\")\n",
    "for no_palindrome in no_palindromes:\n",
    "    print(no_palindrome)"
   ]
  },
  {
   "cell_type": "markdown",
   "id": "9e750a0f-128b-4b28-b2d0-e577643b04fe",
   "metadata": {},
   "source": [
    "## Ejercicio 09\n",
    "\n",
    ">Su objetivo es saber exactamente cuánta propina debe dar después de recibir un servicio. En este escenario, solicite la factura total. Luego muestre la propina del 18%, 20% y 25%."
   ]
  },
  {
   "cell_type": "code",
   "execution_count": 9,
   "id": "43585307-90c3-45b9-98af-34670758c780",
   "metadata": {},
   "outputs": [
    {
     "name": "stdin",
     "output_type": "stream",
     "text": [
      "¿Cuánto es la cuenta?  500\n",
      "¿Cuánto vamos a dejar de propina?\n",
      " 1) 18%\n",
      " 2) 20%\n",
      " 3) 25%\n",
      " 1\n",
      "¿Cuantas personas hay en la mesa? 2\n"
     ]
    },
    {
     "name": "stdout",
     "output_type": "stream",
     "text": [
      "El total a pagar entre  2  con una propina del 18.0 % es  de: 295.0\n"
     ]
    }
   ],
   "source": [
    "check = float(input(\"¿Cuánto es la cuenta? \"))\n",
    "tip = input(\"¿Cuánto vamos a dejar de propina?\\n 1) 18%\\n 2) 20%\\n 3) 25%\\n\")\n",
    "persons = int(input(\"¿Cuantas personas hay en la mesa?\"))\n",
    "\n",
    "if tip == '1':\n",
    "    percentage = 0.18\n",
    "elif tip == '2':\n",
    "    percentage = 0.20\n",
    "elif tip == '3':\n",
    "    percentage = 0.25\n",
    "else:\n",
    "    print(\"Opción inválida\")\n",
    "    exit()\n",
    "\n",
    "total = (check * (1 + percentage)) / persons\n",
    "\n",
    "print(\"El total a pagar entre \",persons,\" con una propina del\", percentage * 100, \"% es  de:\", total)"
   ]
  },
  {
   "cell_type": "markdown",
   "id": "2637b24a-752d-4e2b-b4c0-3bc5e8ba58e3",
   "metadata": {},
   "source": [
    "## Ejercicio 10\n",
    "\n",
    ">Recopile una dirección de correo electrónico del usuario y luego averigüe si el usuario tiene un nombre de dominio personalizado o un nombre de dominio popular."
   ]
  },
  {
   "cell_type": "code",
   "execution_count": 11,
   "id": "5e416100-9848-4db4-8834-87d8c0f3eafd",
   "metadata": {},
   "outputs": [
    {
     "name": "stdin",
     "output_type": "stream",
     "text": [
      "ingresa tu correo elecatronico:   junior@gmail.com\n"
     ]
    },
    {
     "name": "stdout",
     "output_type": "stream",
     "text": [
      "Tu nombre de usuario es: junior\n",
      "El dominio es: gmail.com I see your email is registered with Google. That's cool!.\n"
     ]
    }
   ],
   "source": [
    "email = input(\"ingresa tu correo elecatronico:  \").strip()\n",
    "username= email[:email.index('@')]\n",
    "domain = email[email.index('@')+1:]\n",
    "\n",
    "if domain == \"gmail.com\":\n",
    "    annex = \"I see your email is registered with Google. That's cool!.\"\n",
    "elif domain == \"outlook.com\":\n",
    "    annex = \"I see your email is registered with Microsoft. That's cool!.\"\n",
    "elif domain == \"hotmail.com\":\n",
    "    annex = \"I see your email is registered with Microsoft. That's cool!.\"\n",
    "else:\n",
    "    annex = \"looks like you've got your own custom setup at MyFantasy. Impressive!\"\n",
    "\n",
    "result = \"Tu nombre de usuario es: \"+username+\"\\nEl dominio es: \"+domain+\" \"+annex\n",
    "print(result)"
   ]
  },
  {
   "cell_type": "markdown",
   "id": "8c984c70-f54d-4dc2-bbaf-b9a871ebc675",
   "metadata": {},
   "source": [
    "## Ejercicio 11\n",
    "\n",
    ">Pídale a un usuario que elija de una lista de 10 canciones. Cuando el usuario lo hace, imprime la letra de la canción que seleccionó.\n"
   ]
  },
  {
   "cell_type": "code",
   "execution_count": 12,
   "id": "ad041cc3-4165-4841-9247-925533e0633a",
   "metadata": {},
   "outputs": [
    {
     "name": "stdout",
     "output_type": "stream",
     "text": [
      "Lista de canciones:\n",
      "1. Post Malone - Congratulations\n",
      "2. Travis Scott - Goosebumps\n",
      "3. Future - Mask Off\n",
      "4. Slipknot - Before I Forget\n",
      "5. Nirvana - The Man Who Sold The World\n",
      "6. Mac Miller - Self Care\n",
      "7. Skillet - Awake and Alive\n",
      "8. Smash Mouth - All Star\n",
      "9. Control Machete - Comprendes, Mendes?\n",
      "10. Joji - Tick Tock\n"
     ]
    },
    {
     "name": "stdin",
     "output_type": "stream",
     "text": [
      "Elige una canción (1-10):  1\n"
     ]
    },
    {
     "name": "stdout",
     "output_type": "stream",
     "text": [
      "\n",
      "Elejiste: 'Post Malone - Congratulations' Aqui tienes. \n",
      " --------------- Post Malone - Congratulations--------------- \n",
      " My momma called, seen you on TV, son\n",
      "Said shit done changed ever since we was on\n",
      "I dreamed it all ever since I was young\n",
      "They said I wouldn't be nothing\n",
      "Now they always say congratulations\n",
      "Worked so hard, forgot how to vacation\n",
      "They ain't never had the dedication\n",
      "People hatin', say we changed and look, we made it\n",
      "Yeah, we made it\n",
      "\n",
      "They was never friendly, yeah\n",
      "Now I'm jumping out the Bentley, yeah\n",
      "And I know I sound dramatic, yeah\n",
      "But I know I had to have it, yeah\n",
      "For the money, I'm a savage, yeah\n",
      "I be itching like a addict, yeah\n",
      "I'm surrounded, twenty bad bitches, yeah\n",
      "But they didn't know me last year, yeah\n",
      "Everyone wanna act like they important\n",
      "(Yeah, yeah, yeah, yeah, yeah, yeah)\n",
      "But all that mean nothing when I saw my dog\n",
      "(Yeah, yeah, yeah, yeah, yeah, yeah)\n",
      "Everyone counting on me, drop the ball\n",
      "(Yeah, yeah, yeah, yeah, yeah, yeah)\n",
      "Everything costing like I'm at the bottom, yeah, yeah\n",
      "If you fuck with winning, put your lighters to the sky\n",
      "How could I make sense when I got millions on my mind?\n",
      "Coming with that bullshit, I just put it to the side\n",
      "Balling since a baby, they could see it in my eyes\n",
      "\n",
      "My momma called, seen you on TV, son\n",
      "Said shit done changed ever since we was on\n",
      "I dreamed it all ever since I was young\n",
      "They said I wouldn't be nothing\n",
      "Now they always say congratulations\n",
      "Worked so hard, forgot how to vacation\n",
      "They ain't never had the dedication\n",
      "People hatin', say we changed and look we made it\n",
      "Yeah, we made it\n",
      "\n",
      "I was patient, yeah, oh\n",
      "I was patient, aye, oh\n",
      "Now I can scream that we made it\n",
      "Now everyone, everywhere I go, they say 'gratulations\n",
      "Young nigga, young nigga, graduation\n",
      "I pick up the rock and I ball, baby\n",
      "I'm looking for someone to call, baby\n",
      "But right now, I got a situation\n",
      "Nothing but old Ben-Ben Franklins\n",
      "Big rings, champagne\n",
      "My life is like a ball game\n",
      "But instead, I'm in the trap though\n",
      "Pot so big, call it Super Bowl\n",
      "Super Bowl, call the hoes, get in the Rolls\n",
      "Top-floor lifestyle, Huncho and Post\n",
      "Malone, I got a play on my phone, aye\n",
      "You know what I'm on, aye\n",
      "Huncho Houdini is gone, aye\n",
      "\n",
      "My momma called, seen you on TV, son\n",
      "Said shit done changed ever since we was on\n",
      "I dreamed it all ever since I was young\n",
      "They said I wouldn't be nothing\n",
      "Now they always say congratulations\n",
      "Worked so hard, forgot how to vacation\n",
      "They ain't never had the dedication\n",
      "People hatin', say we changed and look we made it\n",
      "Yeah, we made it\n",
      "\n",
      "Hey, hey\n",
      "Hey, hey\n",
      "Hey, hey\n",
      "Hey, hey \n"
     ]
    }
   ],
   "source": [
    "import lyrics\n",
    "\n",
    "songs = {\n",
    "    \"Post Malone - Congratulations\": lyrics.congratulations,\n",
    "    \"Travis Scott - Goosebumps\": lyrics.goosebumps,\n",
    "    \"Future - Mask Off\": lyrics.MaskOff,\n",
    "    \"Slipknot - Before I Forget\": lyrics.beforeForget,\n",
    "    \"Nirvana - The Man Who Sold The World\": lyrics.SoldTheWorld,\n",
    "    \"Mac Miller - Self Care\": lyrics.selfCare,\n",
    "    \"Skillet - Awake and Alive\": lyrics.awakeAlive,\n",
    "    \"Smash Mouth - All Star\": lyrics.allStar,\n",
    "    \"Control Machete - Comprendes, Mendes?\": lyrics.mendes,\n",
    "    \"Joji - Tick Tock\": lyrics.tickTock, \n",
    "}\n",
    "\n",
    "print(\"Lista de canciones:\")\n",
    "for i, song in enumerate(songs, 1):\n",
    "    print(f\"{i}. {song}\")\n",
    "\n",
    "option = int(input(\"Elige una canción (1-10): \"))\n",
    "\n",
    "if option < 1 or option > 10:\n",
    "    print(\"Opción inválida\")\n",
    "else:\n",
    "    songTitle = list(songs.keys())[option - 1]\n",
    "    songLyrics = songs[songTitle]\n",
    "    \n",
    "    print(f\"\\nElejiste: '{songTitle}' Aqui tienes. \\n --------------- {songTitle}--------------- \\n{songLyrics}\")"
   ]
  },
  {
   "cell_type": "code",
   "execution_count": null,
   "id": "d309227a-60a6-46d9-ae4c-7edb74b2a243",
   "metadata": {},
   "outputs": [],
   "source": []
  }
 ],
 "metadata": {
  "kernelspec": {
   "display_name": "Python 3 (ipykernel)",
   "language": "python",
   "name": "python3"
  },
  "language_info": {
   "codemirror_mode": {
    "name": "ipython",
    "version": 3
   },
   "file_extension": ".py",
   "mimetype": "text/x-python",
   "name": "python",
   "nbconvert_exporter": "python",
   "pygments_lexer": "ipython3",
   "version": "3.12.2"
  }
 },
 "nbformat": 4,
 "nbformat_minor": 5
}
